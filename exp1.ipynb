{
 "cells": [
  {
   "cell_type": "code",
   "execution_count": 1,
   "id": "02eafd27-c12e-41d8-b1b1-e634be427442",
   "metadata": {},
   "outputs": [
    {
     "name": "stdout",
     "output_type": "stream",
     "text": [
      "2363025\n",
      "12\n",
      "3.14\n",
      "jupyter lab\n",
      "[1, 2, 3, 4]\n",
      "{8, 5, 6, 7}\n",
      "{'name': 'drishya', 'age': 18}\n",
      "(10, 11, 12)\n"
     ]
    }
   ],
   "source": [
    "print(2363025)\n",
    "a=12\n",
    "b=3.14\n",
    "c=\"jupyter lab\"\n",
    "d=[1,2,3,4]\n",
    "e={5,6,7,8}\n",
    "f={\"name\":\"drishya\",\"age\":18}\n",
    "g=(10,11,12)\n",
    "print(a)\n",
    "print(b)\n",
    "print(c)\n",
    "print(d)\n",
    "print(e)\n",
    "print(f)\n",
    "print(g)"
   ]
  },
  {
   "cell_type": "code",
   "execution_count": 2,
   "id": "2a9ccdb2-1297-4056-88a4-05acd05c1053",
   "metadata": {},
   "outputs": [
    {
     "name": "stdout",
     "output_type": "stream",
     "text": [
      "2363025\n",
      "22\n",
      "2\n",
      "120\n",
      "1.2\n",
      "2\n",
      "False\n",
      "True\n",
      "False\n",
      "True\n"
     ]
    }
   ],
   "source": [
    "print(2363025)\n",
    "a=12\n",
    "b=10\n",
    "print(a+b)\n",
    "print(a-b)\n",
    "print(a*b)\n",
    "print(a/b)\n",
    "print(a%b)\n",
    "print(a<b)\n",
    "print(a>b)\n",
    "print(a==b)\n",
    "print(a!=b)"
   ]
  },
  {
   "cell_type": "code",
   "execution_count": 3,
   "id": "02b5a552-6cfe-436e-9f10-6353a4f046ff",
   "metadata": {},
   "outputs": [
    {
     "name": "stdout",
     "output_type": "stream",
     "text": [
      "2363025\n"
     ]
    },
    {
     "name": "stdin",
     "output_type": "stream",
     "text": [
      "enter the first input: 12\n",
      "enter the second input: 22\n"
     ]
    },
    {
     "name": "stdout",
     "output_type": "stream",
     "text": [
      "34\n"
     ]
    }
   ],
   "source": [
    "print(2363025)\n",
    "a=int(input(\"enter the first input:\"))\n",
    "b=int(input(\"enter the second input:\"))\n",
    "sum=(a+b)\n",
    "print(sum)"
   ]
  },
  {
   "cell_type": "code",
   "execution_count": 4,
   "id": "af38a18d-a4bd-42b9-9370-14939469e22f",
   "metadata": {},
   "outputs": [
    {
     "name": "stdout",
     "output_type": "stream",
     "text": [
      "2363025\n"
     ]
    },
    {
     "name": "stdin",
     "output_type": "stream",
     "text": [
      "Enter the name: drishya\n",
      "Enter the full name drishyaharish\n"
     ]
    },
    {
     "name": "stdout",
     "output_type": "stream",
     "text": [
      "Concatenation: drishyadrishyaharish\n",
      "Repetition: drishyadrishya\n",
      "Repetition: drishyaharishdrishyaharish\n",
      "Substring: True\n"
     ]
    }
   ],
   "source": [
    "print(\"2363025\")\n",
    "first_name=input(\"Enter the name:\")\n",
    "full_name=input(\"Enter the full name\")\n",
    "name=first_name+full_name\n",
    "print(\"Concatenation:\",name)\n",
    "print(\"Repetition:\",first_name*2)\n",
    "print(\"Repetition:\",full_name*2)\n",
    "substr=first_name in full_name\n",
    "print(\"Substring:\",substr)"
   ]
  },
  {
   "cell_type": "code",
   "execution_count": null,
   "id": "94f8b160-5ee2-480d-85e9-0616f1ed0ed3",
   "metadata": {},
   "outputs": [],
   "source": []
  }
 ],
 "metadata": {
  "kernelspec": {
   "display_name": "Python 3 (ipykernel)",
   "language": "python",
   "name": "python3"
  },
  "language_info": {
   "codemirror_mode": {
    "name": "ipython",
    "version": 3
   },
   "file_extension": ".py",
   "mimetype": "text/x-python",
   "name": "python",
   "nbconvert_exporter": "python",
   "pygments_lexer": "ipython3",
   "version": "3.12.4"
  }
 },
 "nbformat": 4,
 "nbformat_minor": 5
}
